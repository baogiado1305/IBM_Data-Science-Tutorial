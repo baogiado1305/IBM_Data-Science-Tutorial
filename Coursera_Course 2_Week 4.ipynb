{
  "metadata": {
    "kernelspec": {
      "name": "python",
      "display_name": "Pyolite",
      "language": "python"
    },
    "language_info": {
      "codemirror_mode": {
        "name": "python",
        "version": 3
      },
      "file_extension": ".py",
      "mimetype": "text/x-python",
      "name": "python",
      "nbconvert_exporter": "python",
      "pygments_lexer": "ipython3",
      "version": "3.8"
    }
  },
  "nbformat_minor": 4,
  "nbformat": 4,
  "cells": [
    {
      "cell_type": "markdown",
      "source": "<center>\n    <img src=\"https://cf-courses-data.s3.us.cloud-object-storage.appdomain.cloud/IBMDeveloperSkillsNetwork-DS0105EN-SkillsNetwork/labs/Module2/images/SN_web_lightmode.png\" width=\"300\" alt=\"cognitiveclass.ai logo\"  />\n</center>\n",
      "metadata": {}
    },
    {
      "cell_type": "markdown",
      "source": "# My Jupyter Notebook on IBM Watson Studio",
      "metadata": {}
    },
    {
      "cell_type": "markdown",
      "source": "**Do Gia Bao** </br>\nI'm student.",
      "metadata": {}
    },
    {
      "cell_type": "markdown",
      "source": "*I am interested in data science because I love working with numbers, with math and especially, I want to become a professtional data scientist.*",
      "metadata": {}
    },
    {
      "cell_type": "markdown",
      "source": "### Showing result of equation: a * x ^ 2 + b * x + c with a = b = c = 2 and x = 3",
      "metadata": {}
    },
    {
      "cell_type": "code",
      "source": "def Calculation (a, b, c, x):\n    y = a * (x**2) + b * x + c\n    print(y)\n    \nCalculation(2, 2, 2, 3)",
      "metadata": {
        "trusted": true
      },
      "execution_count": 4,
      "outputs": [
        {
          "name": "stdout",
          "text": "26\n",
          "output_type": "stream"
        }
      ]
    },
    {
      "cell_type": "markdown",
      "source": "List\n1. First item\n2. Second item\n3. Third item\n4. Fourth item\n\nBlockquote\n>> I love Data Science.\n\nHorizontal Rules </br>\nI love ...\n---\nData Science",
      "metadata": {}
    },
    {
      "cell_type": "code",
      "source": "",
      "metadata": {},
      "execution_count": null,
      "outputs": []
    }
  ]
}